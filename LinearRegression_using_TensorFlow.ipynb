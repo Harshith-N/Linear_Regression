{
 "cells": [
  {
   "cell_type": "code",
   "execution_count": 1,
   "id": "58d2d5f4",
   "metadata": {},
   "outputs": [],
   "source": [
    "from sklearn.datasets import fetch_california_housing\n",
    "from sklearn.model_selection import train_test_split\n",
    "from sklearn.preprocessing import StandardScaler\n",
    "import tensorflow as tf\n",
    "from tensorflow import keras\n",
    "from sklearn.metrics import accuracy_score"
   ]
  },
  {
   "cell_type": "code",
   "execution_count": 2,
   "id": "9b945693",
   "metadata": {},
   "outputs": [
    {
     "data": {
      "text/plain": [
       "{'data': array([[   8.3252    ,   41.        ,    6.98412698, ...,    2.55555556,\n",
       "           37.88      , -122.23      ],\n",
       "        [   8.3014    ,   21.        ,    6.23813708, ...,    2.10984183,\n",
       "           37.86      , -122.22      ],\n",
       "        [   7.2574    ,   52.        ,    8.28813559, ...,    2.80225989,\n",
       "           37.85      , -122.24      ],\n",
       "        ...,\n",
       "        [   1.7       ,   17.        ,    5.20554273, ...,    2.3256351 ,\n",
       "           39.43      , -121.22      ],\n",
       "        [   1.8672    ,   18.        ,    5.32951289, ...,    2.12320917,\n",
       "           39.43      , -121.32      ],\n",
       "        [   2.3886    ,   16.        ,    5.25471698, ...,    2.61698113,\n",
       "           39.37      , -121.24      ]]),\n",
       " 'target': array([4.526, 3.585, 3.521, ..., 0.923, 0.847, 0.894]),\n",
       " 'frame': None,\n",
       " 'target_names': ['MedHouseVal'],\n",
       " 'feature_names': ['MedInc',\n",
       "  'HouseAge',\n",
       "  'AveRooms',\n",
       "  'AveBedrms',\n",
       "  'Population',\n",
       "  'AveOccup',\n",
       "  'Latitude',\n",
       "  'Longitude'],\n",
       " 'DESCR': '.. _california_housing_dataset:\\n\\nCalifornia Housing dataset\\n--------------------------\\n\\n**Data Set Characteristics:**\\n\\n    :Number of Instances: 20640\\n\\n    :Number of Attributes: 8 numeric, predictive attributes and the target\\n\\n    :Attribute Information:\\n        - MedInc        median income in block group\\n        - HouseAge      median house age in block group\\n        - AveRooms      average number of rooms per household\\n        - AveBedrms     average number of bedrooms per household\\n        - Population    block group population\\n        - AveOccup      average number of household members\\n        - Latitude      block group latitude\\n        - Longitude     block group longitude\\n\\n    :Missing Attribute Values: None\\n\\nThis dataset was obtained from the StatLib repository.\\nhttps://www.dcc.fc.up.pt/~ltorgo/Regression/cal_housing.html\\n\\nThe target variable is the median house value for California districts,\\nexpressed in hundreds of thousands of dollars ($100,000).\\n\\nThis dataset was derived from the 1990 U.S. census, using one row per census\\nblock group. A block group is the smallest geographical unit for which the U.S.\\nCensus Bureau publishes sample data (a block group typically has a population\\nof 600 to 3,000 people).\\n\\nAn household is a group of people residing within a home. Since the average\\nnumber of rooms and bedrooms in this dataset are provided per household, these\\ncolumns may take surpinsingly large values for block groups with few households\\nand many empty houses, such as vacation resorts.\\n\\nIt can be downloaded/loaded using the\\n:func:`sklearn.datasets.fetch_california_housing` function.\\n\\n.. topic:: References\\n\\n    - Pace, R. Kelley and Ronald Barry, Sparse Spatial Autoregressions,\\n      Statistics and Probability Letters, 33 (1997) 291-297\\n'}"
      ]
     },
     "execution_count": 2,
     "metadata": {},
     "output_type": "execute_result"
    }
   ],
   "source": [
    "housing = fetch_california_housing()\n",
    "housing"
   ]
  },
  {
   "cell_type": "code",
   "execution_count": 3,
   "id": "83890e9c",
   "metadata": {},
   "outputs": [
    {
     "data": {
      "text/plain": [
       "(array([[   1.5714    ,   39.        ,    3.83035714, ...,    5.45535714,\n",
       "           36.52      , -119.29      ],\n",
       "        [   1.9336    ,   38.        ,    4.24601367, ...,    4.02733485,\n",
       "           34.05      , -118.31      ],\n",
       "        [   2.9565    ,   14.        ,    4.8177624 , ...,    2.65282584,\n",
       "           36.8       , -119.85      ],\n",
       "        ...,\n",
       "        [   4.8304    ,   33.        ,    5.75463918, ...,    3.53402062,\n",
       "           37.43      , -121.91      ],\n",
       "        [   5.5       ,   45.        ,    6.48255814, ...,    2.75872093,\n",
       "           33.97      , -118.34      ],\n",
       "        [   4.2075    ,   15.        ,    6.111334  , ...,    2.4222668 ,\n",
       "           38.5       , -121.54      ]]),\n",
       " array([[   2.5048    ,   28.        ,    3.98648649, ...,    4.43074324,\n",
       "           34.04      , -117.65      ],\n",
       "        [   4.3958    ,   38.        ,    5.65625   , ...,    2.4609375 ,\n",
       "           37.94      , -122.31      ],\n",
       "        [   2.1734    ,   21.        ,    3.90526316, ...,    2.58947368,\n",
       "           36.98      , -122.02      ],\n",
       "        ...,\n",
       "        [   5.8311    ,   37.        ,    5.88445378, ...,    2.41596639,\n",
       "           34.43      , -119.69      ],\n",
       "        [   2.2222    ,   39.        ,    4.23357664, ...,    2.6459854 ,\n",
       "           37.66      , -122.09      ],\n",
       "        [   2.8247    ,   15.        ,    4.95302976, ...,    2.36034421,\n",
       "           33.15      , -117.04      ]]),\n",
       " array([0.43 , 1.906, 0.73 , ..., 2.249, 1.882, 1.836]),\n",
       " array([1.   , 1.942, 1.875, ..., 3.877, 1.583, 1.5  ]))"
      ]
     },
     "execution_count": 3,
     "metadata": {},
     "output_type": "execute_result"
    }
   ],
   "source": [
    "X_train_full, X_test, y_train_full, y_test = train_test_split(housing.data, housing.target)\n",
    "X_train_full, X_test, y_train_full, y_test"
   ]
  },
  {
   "cell_type": "code",
   "execution_count": 4,
   "id": "f6c93d4e",
   "metadata": {},
   "outputs": [
    {
     "data": {
      "text/plain": [
       "(array([[   5.5184    ,   35.        ,    5.62462462, ...,    2.83783784,\n",
       "           37.56      , -122.3       ],\n",
       "        [   1.7692    ,   34.        ,    5.56019656, ...,    2.90909091,\n",
       "           36.65      , -119.8       ],\n",
       "        [   6.7099    ,   50.        ,    7.50352113, ...,    2.65140845,\n",
       "           34.11      , -118.11      ],\n",
       "        ...,\n",
       "        [   2.506     ,   25.        ,    3.37471783, ...,    2.94413093,\n",
       "           34.14      , -118.25      ],\n",
       "        [   3.7622    ,   16.        ,    4.87479675, ...,    2.61138211,\n",
       "           37.4       , -121.9       ],\n",
       "        [   4.0368    ,   36.        ,    4.90084986, ...,    3.11331445,\n",
       "           34.23      , -118.44      ]]),\n",
       " array([[   1.5854    ,   42.        ,    2.13708999, ...,    3.34230446,\n",
       "           34.06      , -118.26      ],\n",
       "        [   2.3462    ,   16.        ,    4.67672414, ...,    1.53448276,\n",
       "           38.        , -122.05      ],\n",
       "        [   4.9583    ,   33.        ,    6.55153203, ...,    2.77158774,\n",
       "           34.13      , -118.03      ],\n",
       "        ...,\n",
       "        [   4.7333    ,   30.        ,    5.28846154, ...,    2.46346154,\n",
       "           33.04      , -117.29      ],\n",
       "        [   6.4266    ,    5.        ,    6.73028448, ...,    3.39467051,\n",
       "           34.02      , -117.79      ],\n",
       "        [   9.1415    ,    5.        ,    7.20529801, ...,    3.54746137,\n",
       "           37.54      , -122.26      ]]),\n",
       " array([2.748, 0.742, 3.522, ..., 1.845, 1.5  , 1.831]),\n",
       " array([0.875  , 0.75   , 4.457  , ..., 2.869  , 3.156  , 5.00001]))"
      ]
     },
     "execution_count": 4,
     "metadata": {},
     "output_type": "execute_result"
    }
   ],
   "source": [
    "X_train, X_valid, y_train, y_valid = train_test_split(X_train_full, y_train_full)\n",
    "X_train, X_valid, y_train, y_valid"
   ]
  },
  {
   "cell_type": "code",
   "execution_count": 5,
   "id": "01c4ffb0",
   "metadata": {},
   "outputs": [
    {
     "data": {
      "text/plain": [
       "array([[ 0.84924018,  0.510696  ,  0.07594381, ..., -0.04798141,\n",
       "         0.89649738, -1.36578395],\n",
       "       [-1.10641417,  0.43113211,  0.04917998, ..., -0.01717774,\n",
       "         0.47099751, -0.11445648],\n",
       "       [ 1.47074934,  1.70415433,  0.85644957, ..., -0.12857736,\n",
       "        -0.71666145,  0.73144089],\n",
       "       ...,\n",
       "       [-0.72208522, -0.28494289, -0.85868201, ..., -0.00202947,\n",
       "        -0.70263398,  0.66136655],\n",
       "       [-0.0668273 , -1.00101789, -0.23553953, ..., -0.14588129,\n",
       "         0.82168421, -1.16557155],\n",
       "       [ 0.07640931,  0.59025989, -0.2247169 , ...,  0.07111086,\n",
       "        -0.66055158,  0.56626567]])"
      ]
     },
     "execution_count": 5,
     "metadata": {},
     "output_type": "execute_result"
    }
   ],
   "source": [
    "scaler = StandardScaler()\n",
    "X_train = scaler.fit_transform(X_train)\n",
    "X_train"
   ]
  },
  {
   "cell_type": "code",
   "execution_count": 6,
   "id": "f9afc96f",
   "metadata": {},
   "outputs": [
    {
     "data": {
      "text/plain": [
       "array([[-1.20228777,  1.06764322, -1.37280062, ...,  0.17010635,\n",
       "        -0.74004056,  0.65636124],\n",
       "       [-0.80543995, -1.00101789, -0.31782018, ..., -0.61143949,\n",
       "         1.10223357, -1.2406512 ],\n",
       "       [ 0.55708132,  0.35156822,  0.46098714, ..., -0.07662223,\n",
       "        -0.7073098 ,  0.77148337],\n",
       "       ...,\n",
       "       [ 0.43971702,  0.11287656, -0.06370051, ..., -0.20982936,\n",
       "        -1.21697448,  1.1418763 ],\n",
       "       [ 1.32297465, -1.87622066,  0.53524207, ...,  0.1927449 ,\n",
       "        -0.75874385,  0.89161081],\n",
       "       [ 2.73911836, -1.87622066,  0.73256576, ...,  0.25879846,\n",
       "         0.88714573, -1.34576271]])"
      ]
     },
     "execution_count": 6,
     "metadata": {},
     "output_type": "execute_result"
    }
   ],
   "source": [
    "X_valid = scaler.transform(X_valid)\n",
    "X_valid"
   ]
  },
  {
   "cell_type": "code",
   "execution_count": 7,
   "id": "c7a21657",
   "metadata": {},
   "outputs": [
    {
     "data": {
      "text/plain": [
       "array([[-0.72271116, -0.04625122, -0.60454936, ...,  0.64065319,\n",
       "        -0.74939221,  0.96168515],\n",
       "       [ 0.26367057,  0.74938766,  0.0890812 , ..., -0.21092054,\n",
       "         1.07417864, -1.37078926],\n",
       "       [-0.89557573, -0.60319844, -0.63829006, ..., -0.1553526 ,\n",
       "         0.62529966, -1.22563527],\n",
       "       ...,\n",
       "       [ 1.01235047,  0.66982378,  0.18387853, ..., -0.23036216,\n",
       "        -0.56703512, -0.05939807],\n",
       "       [-0.87012072,  0.82895155, -0.50190651, ..., -0.13092182,\n",
       "         0.9432556 , -1.26067244],\n",
       "       [-0.55584521, -1.08058177, -0.20304103, ..., -0.25440838,\n",
       "        -1.16554043,  1.26700905]])"
      ]
     },
     "execution_count": 7,
     "metadata": {},
     "output_type": "execute_result"
    }
   ],
   "source": [
    "X_test = scaler.transform(X_test)\n",
    "X_test"
   ]
  },
  {
   "cell_type": "code",
   "execution_count": 8,
   "id": "f75738d8",
   "metadata": {},
   "outputs": [
    {
     "name": "stderr",
     "output_type": "stream",
     "text": [
      "C:\\Users\\souja\\anaconda3\\lib\\site-packages\\keras\\src\\layers\\core\\dense.py:87: UserWarning: Do not pass an `input_shape`/`input_dim` argument to a layer. When using Sequential models, prefer using an `Input(shape)` object as the first layer in the model instead.\n",
      "  super().__init__(activity_regularizer=activity_regularizer, **kwargs)\n"
     ]
    }
   ],
   "source": [
    "model = keras.models.Sequential([keras.layers.Dense(30, activation=\"relu\", input_shape=X_train.shape[1:]), keras.layers.Dense(1)])\n",
    "model.compile(loss=\"mean_squared_error\", optimizer=\"sgd\")"
   ]
  },
  {
   "cell_type": "code",
   "execution_count": 9,
   "id": "46ddb62b",
   "metadata": {},
   "outputs": [
    {
     "name": "stdout",
     "output_type": "stream",
     "text": [
      "Epoch 1/20\n",
      "\u001b[1m363/363\u001b[0m \u001b[32m━━━━━━━━━━━━━━━━━━━━\u001b[0m\u001b[37m\u001b[0m \u001b[1m2s\u001b[0m 4ms/step - loss: 1.8454 - val_loss: 10.0785\n",
      "Epoch 2/20\n",
      "\u001b[1m363/363\u001b[0m \u001b[32m━━━━━━━━━━━━━━━━━━━━\u001b[0m\u001b[37m\u001b[0m \u001b[1m1s\u001b[0m 3ms/step - loss: 0.7535 - val_loss: 8.4577\n",
      "Epoch 3/20\n",
      "\u001b[1m363/363\u001b[0m \u001b[32m━━━━━━━━━━━━━━━━━━━━\u001b[0m\u001b[37m\u001b[0m \u001b[1m1s\u001b[0m 3ms/step - loss: 0.5702 - val_loss: 16.1397\n",
      "Epoch 4/20\n",
      "\u001b[1m363/363\u001b[0m \u001b[32m━━━━━━━━━━━━━━━━━━━━\u001b[0m\u001b[37m\u001b[0m \u001b[1m1s\u001b[0m 3ms/step - loss: 0.4810 - val_loss: 0.4334\n",
      "Epoch 5/20\n",
      "\u001b[1m363/363\u001b[0m \u001b[32m━━━━━━━━━━━━━━━━━━━━\u001b[0m\u001b[37m\u001b[0m \u001b[1m1s\u001b[0m 4ms/step - loss: 0.4060 - val_loss: 0.4255\n",
      "Epoch 6/20\n",
      "\u001b[1m363/363\u001b[0m \u001b[32m━━━━━━━━━━━━━━━━━━━━\u001b[0m\u001b[37m\u001b[0m \u001b[1m1s\u001b[0m 4ms/step - loss: 0.3852 - val_loss: 0.4180\n",
      "Epoch 7/20\n",
      "\u001b[1m363/363\u001b[0m \u001b[32m━━━━━━━━━━━━━━━━━━━━\u001b[0m\u001b[37m\u001b[0m \u001b[1m1s\u001b[0m 3ms/step - loss: 0.3872 - val_loss: 0.4066\n",
      "Epoch 8/20\n",
      "\u001b[1m363/363\u001b[0m \u001b[32m━━━━━━━━━━━━━━━━━━━━\u001b[0m\u001b[37m\u001b[0m \u001b[1m1s\u001b[0m 4ms/step - loss: 0.3600 - val_loss: 0.4061\n",
      "Epoch 9/20\n",
      "\u001b[1m363/363\u001b[0m \u001b[32m━━━━━━━━━━━━━━━━━━━━\u001b[0m\u001b[37m\u001b[0m \u001b[1m1s\u001b[0m 3ms/step - loss: 0.3694 - val_loss: 0.4000\n",
      "Epoch 10/20\n",
      "\u001b[1m363/363\u001b[0m \u001b[32m━━━━━━━━━━━━━━━━━━━━\u001b[0m\u001b[37m\u001b[0m \u001b[1m2s\u001b[0m 4ms/step - loss: 0.3756 - val_loss: 0.4003\n",
      "Epoch 11/20\n",
      "\u001b[1m363/363\u001b[0m \u001b[32m━━━━━━━━━━━━━━━━━━━━\u001b[0m\u001b[37m\u001b[0m \u001b[1m2s\u001b[0m 4ms/step - loss: 0.3700 - val_loss: 0.3977\n",
      "Epoch 12/20\n",
      "\u001b[1m363/363\u001b[0m \u001b[32m━━━━━━━━━━━━━━━━━━━━\u001b[0m\u001b[37m\u001b[0m \u001b[1m2s\u001b[0m 4ms/step - loss: 0.3757 - val_loss: 0.3911\n",
      "Epoch 13/20\n",
      "\u001b[1m363/363\u001b[0m \u001b[32m━━━━━━━━━━━━━━━━━━━━\u001b[0m\u001b[37m\u001b[0m \u001b[1m1s\u001b[0m 4ms/step - loss: 0.3659 - val_loss: 0.3891\n",
      "Epoch 14/20\n",
      "\u001b[1m363/363\u001b[0m \u001b[32m━━━━━━━━━━━━━━━━━━━━\u001b[0m\u001b[37m\u001b[0m \u001b[1m1s\u001b[0m 3ms/step - loss: 0.3544 - val_loss: 0.3858\n",
      "Epoch 15/20\n",
      "\u001b[1m363/363\u001b[0m \u001b[32m━━━━━━━━━━━━━━━━━━━━\u001b[0m\u001b[37m\u001b[0m \u001b[1m2s\u001b[0m 5ms/step - loss: 0.3541 - val_loss: 0.3851\n",
      "Epoch 16/20\n",
      "\u001b[1m363/363\u001b[0m \u001b[32m━━━━━━━━━━━━━━━━━━━━\u001b[0m\u001b[37m\u001b[0m \u001b[1m2s\u001b[0m 5ms/step - loss: 0.3598 - val_loss: 0.3855\n",
      "Epoch 17/20\n",
      "\u001b[1m363/363\u001b[0m \u001b[32m━━━━━━━━━━━━━━━━━━━━\u001b[0m\u001b[37m\u001b[0m \u001b[1m2s\u001b[0m 4ms/step - loss: 0.3583 - val_loss: 0.3833\n",
      "Epoch 18/20\n",
      "\u001b[1m363/363\u001b[0m \u001b[32m━━━━━━━━━━━━━━━━━━━━\u001b[0m\u001b[37m\u001b[0m \u001b[1m1s\u001b[0m 4ms/step - loss: 0.3473 - val_loss: 0.3794\n",
      "Epoch 19/20\n",
      "\u001b[1m363/363\u001b[0m \u001b[32m━━━━━━━━━━━━━━━━━━━━\u001b[0m\u001b[37m\u001b[0m \u001b[1m1s\u001b[0m 3ms/step - loss: 0.3729 - val_loss: 0.3792\n",
      "Epoch 20/20\n",
      "\u001b[1m363/363\u001b[0m \u001b[32m━━━━━━━━━━━━━━━━━━━━\u001b[0m\u001b[37m\u001b[0m \u001b[1m1s\u001b[0m 3ms/step - loss: 0.3626 - val_loss: 0.3783\n"
     ]
    }
   ],
   "source": [
    "history = model.fit(X_train, y_train, epochs=20,\n",
    "validation_data=(X_valid, y_valid))"
   ]
  },
  {
   "cell_type": "code",
   "execution_count": 10,
   "id": "c1735bc6",
   "metadata": {},
   "outputs": [
    {
     "name": "stdout",
     "output_type": "stream",
     "text": [
      "\u001b[1m162/162\u001b[0m \u001b[32m━━━━━━━━━━━━━━━━━━━━\u001b[0m\u001b[37m\u001b[0m \u001b[1m1s\u001b[0m 3ms/step - loss: 0.3438\n"
     ]
    },
    {
     "data": {
      "text/plain": [
       "0.3472574055194855"
      ]
     },
     "execution_count": 10,
     "metadata": {},
     "output_type": "execute_result"
    }
   ],
   "source": [
    "mse_test = model.evaluate(X_test, y_test)\n",
    "mse_test"
   ]
  },
  {
   "cell_type": "code",
   "execution_count": 11,
   "id": "5d18b7da",
   "metadata": {},
   "outputs": [
    {
     "data": {
      "text/plain": [
       "array([[-0.72271116, -0.04625122, -0.60454936, -0.14932888,  1.01345511,\n",
       "         0.64065319, -0.74939221,  0.96168515],\n",
       "       [ 0.26367057,  0.74938766,  0.0890812 , -0.09944924, -0.40991914,\n",
       "        -0.21092054,  1.07417864, -1.37078926],\n",
       "       [-0.89557573, -0.60319844, -0.63829006, -0.12555932, -0.37683714,\n",
       "        -0.1553526 ,  0.62529966, -1.22563527]])"
      ]
     },
     "execution_count": 11,
     "metadata": {},
     "output_type": "execute_result"
    }
   ],
   "source": [
    "X_new = X_test[:3] # pretend these are new instances\n",
    "X_new"
   ]
  },
  {
   "cell_type": "code",
   "execution_count": 12,
   "id": "c9148ba5",
   "metadata": {},
   "outputs": [
    {
     "name": "stdout",
     "output_type": "stream",
     "text": [
      "\u001b[1m1/1\u001b[0m \u001b[32m━━━━━━━━━━━━━━━━━━━━\u001b[0m\u001b[37m\u001b[0m \u001b[1m0s\u001b[0m 129ms/step\n"
     ]
    },
    {
     "data": {
      "text/plain": [
       "array([[1.2314016],\n",
       "       [2.6306176],\n",
       "       [1.6847626]], dtype=float32)"
      ]
     },
     "execution_count": 12,
     "metadata": {},
     "output_type": "execute_result"
    }
   ],
   "source": [
    "y_pred = model.predict(X_new)\n",
    "y_pred"
   ]
  },
  {
   "cell_type": "code",
   "execution_count": 13,
   "id": "662f600d",
   "metadata": {},
   "outputs": [
    {
     "data": {
      "image/png": "[encoded data removed]",
      "text/plain": [
       "<Figure size 800x500 with 1 Axes>"
      ]
     },
     "metadata": {},
     "output_type": "display_data"
    }
   ],
   "source": [
    "import pandas as pd\n",
    "import matplotlib.pyplot as plt\n",
    "pd.DataFrame(history.history).plot(figsize=(8, 5))\n",
    "plt.grid(True)\n",
    "plt.gca().set_ylim(0, 1) \n",
    "plt.show()"
   ]
  },
  {
   "cell_type": "code",
   "execution_count": null,
   "id": "fe1881b6",
   "metadata": {},
   "outputs": [],
   "source": []
  }
 ],
 "metadata": {
  "kernelspec": {
   "display_name": "Python 3 (ipykernel)",
   "language": "python",
   "name": "python3"
  },
  "language_info": {
   "codemirror_mode": {
    "name": "ipython",
    "version": 3
   },
   "file_extension": ".py",
   "mimetype": "text/x-python",
   "name": "python",
   "nbconvert_exporter": "python",
   "pygments_lexer": "ipython3",
   "version": "3.10.9"
  }
 },
 "nbformat": 4,
 "nbformat_minor": 5
}
